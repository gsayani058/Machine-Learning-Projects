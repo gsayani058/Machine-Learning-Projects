{
 "cells": [
  {
   "cell_type": "code",
   "execution_count": 1,
   "id": "ea5c126d",
   "metadata": {},
   "outputs": [],
   "source": [
    "import tensorflow as tf"
   ]
  },
  {
   "cell_type": "code",
   "execution_count": 2,
   "id": "e1bd3aff",
   "metadata": {},
   "outputs": [],
   "source": [
    "from tensorflow.keras import datasets\n"
   ]
  },
  {
   "cell_type": "code",
   "execution_count": 3,
   "id": "4cddde0b",
   "metadata": {},
   "outputs": [
    {
     "name": "stdout",
     "output_type": "stream",
     "text": [
      "Collecting opencv-python\n",
      "  Downloading opencv_python-4.8.0.76-cp37-abi3-win_amd64.whl (38.1 MB)\n",
      "     ---------------------------------------- 38.1/38.1 MB 2.4 MB/s eta 0:00:00\n",
      "Requirement already satisfied: numpy>=1.17.3 in c:\\users\\rimi\\anaconda3\\lib\\site-packages (from opencv-python) (1.24.3)\n",
      "Installing collected packages: opencv-python\n",
      "Successfully installed opencv-python-4.8.0.76\n"
     ]
    }
   ],
   "source": [
    "! pip install opencv-python"
   ]
  },
  {
   "cell_type": "code",
   "execution_count": 4,
   "id": "0bfdf5df",
   "metadata": {},
   "outputs": [],
   "source": [
    "import cv2\n",
    "import numpy as np\n",
    "from matplotlib import pyplot as plt"
   ]
  },
  {
   "cell_type": "code",
   "execution_count": 5,
   "id": "b44fe3b3",
   "metadata": {},
   "outputs": [],
   "source": [
    "import os"
   ]
  },
  {
   "cell_type": "code",
   "execution_count": 8,
   "id": "53d9aca4",
   "metadata": {},
   "outputs": [],
   "source": [
    "def read_images(root_dir, size):\n",
    "    x = []\n",
    "    y = []\n",
    "    folder_names = os.listdir(root_dir)\n",
    "    for folder_name in folder_names:\n",
    "        file_names = os.listdir(f'{root_dir}/{folder_name}')\n",
    "        for file_name in file_names:\n",
    "            img_path = f'{root_dir}/{folder_name}/{file_name}'\n",
    "            if os.path.isfile(img_path):\n",
    "                img = cv2.imread(img_path)\n",
    "                if img is not None:\n",
    "                    img = cv2.resize(img, size, interpolation=cv2.INTER_NEAREST)\n",
    "                    x.append(img)\n",
    "                    y.append(folder_name)\n",
    "    return x, y"
   ]
  },
  {
   "cell_type": "code",
   "execution_count": 20,
   "id": "76c78b91",
   "metadata": {},
   "outputs": [],
   "source": [
    "root_dir='C:\\\\Users\\\\Sports Image Dataset\\\\Sports Image Dataset'\n",
    "size=(200,200)"
   ]
  },
  {
   "cell_type": "code",
   "execution_count": 21,
   "id": "c6c35cc5",
   "metadata": {},
   "outputs": [],
   "source": [
    "folder_names=os.listdir(root_dir)"
   ]
  },
  {
   "cell_type": "code",
   "execution_count": 22,
   "id": "51a4de64",
   "metadata": {},
   "outputs": [
    {
     "data": {
      "text/plain": [
       "['badminton',\n",
       " 'baseball',\n",
       " 'basketball',\n",
       " 'boxing',\n",
       " 'chess',\n",
       " 'cricket',\n",
       " 'fencing',\n",
       " 'football',\n",
       " 'formula1',\n",
       " 'gymnastics',\n",
       " 'hockey',\n",
       " 'ice_hockey',\n",
       " 'kabaddi',\n",
       " 'motogp',\n",
       " 'shooting',\n",
       " 'swimming',\n",
       " 'table_tennis',\n",
       " 'tennis',\n",
       " 'volleyball',\n",
       " 'weight_lifting',\n",
       " 'wrestling',\n",
       " 'wwe']"
      ]
     },
     "execution_count": 22,
     "metadata": {},
     "output_type": "execute_result"
    }
   ],
   "source": [
    "folder_names"
   ]
  },
  {
   "cell_type": "code",
   "execution_count": 23,
   "id": "8187939d",
   "metadata": {},
   "outputs": [],
   "source": [
    "x,y=read_images(root_dir,size)"
   ]
  },
  {
   "cell_type": "code",
   "execution_count": 24,
   "id": "02345072",
   "metadata": {},
   "outputs": [],
   "source": [
    "# convert array\n",
    "x=np.array(x)"
   ]
  },
  {
   "cell_type": "code",
   "execution_count": 25,
   "id": "932c2705",
   "metadata": {},
   "outputs": [
    {
     "data": {
      "text/plain": [
       "(14281, 200, 200, 3)"
      ]
     },
     "execution_count": 25,
     "metadata": {},
     "output_type": "execute_result"
    }
   ],
   "source": [
    "x.shape"
   ]
  },
  {
   "cell_type": "code",
   "execution_count": 26,
   "id": "c04512d7",
   "metadata": {},
   "outputs": [],
   "source": [
    "from sklearn.preprocessing import LabelEncoder\n",
    "from sklearn.model_selection import train_test_split"
   ]
  },
  {
   "cell_type": "code",
   "execution_count": 27,
   "id": "b3502ab6",
   "metadata": {},
   "outputs": [
    {
     "data": {
      "text/plain": [
       "array([ 0,  0,  0, ..., 21, 21, 21], dtype=int64)"
      ]
     },
     "execution_count": 27,
     "metadata": {},
     "output_type": "execute_result"
    }
   ],
   "source": [
    "le=LabelEncoder()\n",
    "y1=le.fit_transform(y)\n",
    "y1[:-10]"
   ]
  },
  {
   "cell_type": "code",
   "execution_count": 28,
   "id": "3a7256ac",
   "metadata": {},
   "outputs": [
    {
     "data": {
      "text/plain": [
       "array([ 0,  1,  2,  3,  4,  5,  6,  7,  8,  9, 10, 11, 12, 13, 14, 15, 16,\n",
       "       17, 18, 19, 20, 21], dtype=int64)"
      ]
     },
     "execution_count": 28,
     "metadata": {},
     "output_type": "execute_result"
    }
   ],
   "source": [
    "np.unique(y1)"
   ]
  },
  {
   "cell_type": "code",
   "execution_count": 29,
   "id": "84fe49ac",
   "metadata": {},
   "outputs": [],
   "source": [
    "from tensorflow.keras import Sequential\n",
    "from tensorflow.keras.layers import Conv2D,MaxPooling2D,Dense,Flatten,Dropout\n",
    "from tensorflow.keras.callbacks import EarlyStopping\n",
    "from tensorflow.keras.losses import sparse_categorical_crossentropy"
   ]
  },
  {
   "cell_type": "code",
   "execution_count": 30,
   "id": "9ba75699",
   "metadata": {},
   "outputs": [],
   "source": [
    "model=Sequential()\n",
    "model.add(Conv2D(32,(3,3),activation='relu',input_shape=(200,200,3)))\n",
    "model.add(MaxPooling2D((2,2)))\n",
    "\n",
    "model.add(Conv2D(64,(3,3),activation='relu'))\n",
    "model.add(MaxPooling2D((2,2)))\n",
    "\n",
    "model.add (Flatten())\n",
    "model.add(Dense(500,activation='relu'))\n",
    "model.add(Dropout(0.2))\n",
    "\n",
    "model.add(Dense(250,activation='relu'))\n",
    "model.add(Dropout(0.2))\n",
    "\n",
    "model.add(Dense(100,activation='relu'))\n",
    "model.add(Dense(22,activation='softmax'))"
   ]
  },
  {
   "cell_type": "code",
   "execution_count": 31,
   "id": "dc91987e",
   "metadata": {},
   "outputs": [
    {
     "name": "stdout",
     "output_type": "stream",
     "text": [
      "Model: \"sequential\"\n",
      "_________________________________________________________________\n",
      " Layer (type)                Output Shape              Param #   \n",
      "=================================================================\n",
      " conv2d (Conv2D)             (None, 198, 198, 32)      896       \n",
      "                                                                 \n",
      " max_pooling2d (MaxPooling2  (None, 99, 99, 32)        0         \n",
      " D)                                                              \n",
      "                                                                 \n",
      " conv2d_1 (Conv2D)           (None, 97, 97, 64)        18496     \n",
      "                                                                 \n",
      " max_pooling2d_1 (MaxPoolin  (None, 48, 48, 64)        0         \n",
      " g2D)                                                            \n",
      "                                                                 \n",
      " flatten (Flatten)           (None, 147456)            0         \n",
      "                                                                 \n",
      " dense (Dense)               (None, 500)               73728500  \n",
      "                                                                 \n",
      " dropout (Dropout)           (None, 500)               0         \n",
      "                                                                 \n",
      " dense_1 (Dense)             (None, 250)               125250    \n",
      "                                                                 \n",
      " dropout_1 (Dropout)         (None, 250)               0         \n",
      "                                                                 \n",
      " dense_2 (Dense)             (None, 100)               25100     \n",
      "                                                                 \n",
      " dense_3 (Dense)             (None, 22)                2222      \n",
      "                                                                 \n",
      "=================================================================\n",
      "Total params: 73900464 (281.91 MB)\n",
      "Trainable params: 73900464 (281.91 MB)\n",
      "Non-trainable params: 0 (0.00 Byte)\n",
      "_________________________________________________________________\n"
     ]
    }
   ],
   "source": [
    "model.summary()"
   ]
  },
  {
   "cell_type": "code",
   "execution_count": 32,
   "id": "7c13f099",
   "metadata": {},
   "outputs": [
    {
     "name": "stdout",
     "output_type": "stream",
     "text": [
      "Epoch 1/10\n",
      "168/168 [==============================] - 407s 2s/step - loss: 49.7651 - accuracy: 0.1410 - val_loss: 5.2043 - val_accuracy: 0.0000e+00\n",
      "Epoch 2/10\n",
      "168/168 [==============================] - 382s 2s/step - loss: 2.5955 - accuracy: 0.2797 - val_loss: 14.6632 - val_accuracy: 5.6007e-04\n",
      "Epoch 3/10\n",
      "168/168 [==============================] - 417s 2s/step - loss: 2.6914 - accuracy: 0.4641 - val_loss: 139.6084 - val_accuracy: 0.0000e+00\n",
      "Epoch 4/10\n",
      "168/168 [==============================] - 361s 2s/step - loss: 3.2658 - accuracy: 0.6280 - val_loss: 25.1844 - val_accuracy: 0.0039\n",
      "Epoch 5/10\n",
      "168/168 [==============================] - 374s 2s/step - loss: 3.1071 - accuracy: 0.7214 - val_loss: 10.8886 - val_accuracy: 0.0025\n",
      "Epoch 6/10\n",
      "168/168 [==============================] - 356s 2s/step - loss: 0.6317 - accuracy: 0.8354 - val_loss: 36.4020 - val_accuracy: 0.0034\n",
      "Epoch 7/10\n",
      "168/168 [==============================] - 354s 2s/step - loss: 2.3227 - accuracy: 0.8417 - val_loss: 29.4132 - val_accuracy: 0.0014\n",
      "Epoch 8/10\n",
      "168/168 [==============================] - 385s 2s/step - loss: 2.4474 - accuracy: 0.8036 - val_loss: 10.6287 - val_accuracy: 0.0011\n",
      "Epoch 9/10\n",
      "168/168 [==============================] - 359s 2s/step - loss: 2.0370 - accuracy: 0.7987 - val_loss: 30.1445 - val_accuracy: 0.0031\n",
      "Epoch 10/10\n",
      "168/168 [==============================] - 368s 2s/step - loss: 0.4341 - accuracy: 0.9092 - val_loss: 62.4006 - val_accuracy: 0.0028\n"
     ]
    },
    {
     "data": {
      "text/plain": [
       "<keras.src.callbacks.History at 0x1864524a610>"
      ]
     },
     "execution_count": 32,
     "metadata": {},
     "output_type": "execute_result"
    }
   ],
   "source": [
    "#compile and train model\n",
    "model.compile(optimizer='rmsprop',loss='sparse_categorical_crossentropy',metrics=['accuracy'])\n",
    "model.fit(x,y1,epochs=10,validation_split=0.25,batch_size=64)"
   ]
  },
  {
   "cell_type": "markdown",
   "id": "bacce17d",
   "metadata": {},
   "source": [
    "### Accuracy for this model is 91.58% "
   ]
  },
  {
   "cell_type": "code",
   "execution_count": null,
   "id": "92268750",
   "metadata": {},
   "outputs": [],
   "source": []
  }
 ],
 "metadata": {
  "kernelspec": {
   "display_name": "Python 3 (ipykernel)",
   "language": "python",
   "name": "python3"
  },
  "language_info": {
   "codemirror_mode": {
    "name": "ipython",
    "version": 3
   },
   "file_extension": ".py",
   "mimetype": "text/x-python",
   "name": "python",
   "nbconvert_exporter": "python",
   "pygments_lexer": "ipython3",
   "version": "3.9.13"
  }
 },
 "nbformat": 4,
 "nbformat_minor": 5
}
